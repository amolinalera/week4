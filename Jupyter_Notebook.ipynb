{
 "cells": [
  {
   "cell_type": "markdown",
   "metadata": {},
   "source": [
    "<center>\n",
    "    <img src=\"https://s3-api.us-geo.objectstorage.softlayer.net/cf-courses-data/CognitiveClass/Logos/organization_logo/organization_logo.png\" width=\"300\" alt=\"cognitiveclass.ai logo\"  />\n",
    "</center>\n"
   ]
  },
  {
   "cell_type": "markdown",
   "metadata": {},
   "source": [
    "#### Add your code below following the instructions given in the course\n"
   ]
  },
  {
   "cell_type": "markdown",
   "metadata": {},
   "source": [
    "# My Jupyter Notebook on IBM Watson Studio"
   ]
  },
  {
   "cell_type": "markdown",
   "metadata": {},
   "source": [
    "__Jose Alejo Molina Lera__"
   ]
  },
  {
   "cell_type": "markdown",
   "metadata": {},
   "source": [
    "_I am interested in data science because I like computers and programming_"
   ]
  },
  {
   "cell_type": "markdown",
   "metadata": {},
   "source": [
    "#### This code perform a simple calculation"
   ]
  },
  {
   "cell_type": "code",
   "execution_count": 5,
   "metadata": {},
   "outputs": [
    {
     "data": {
      "text/plain": [
       "2"
      ]
     },
     "execution_count": 5,
     "metadata": {},
     "output_type": "execute_result"
    }
   ],
   "source": [
    "1 + 1"
   ]
  },
  {
   "cell_type": "markdown",
   "metadata": {},
   "source": [
    "***\n",
    "\n",
    "- Item 1\n",
    "- Item 2\n",
    "- Item 3\n",
    "    - Subitem 1\n",
    "    \n",
    "    \n",
    "1. Item A\n",
    "2. Item B\n",
    "    1. Item b\n",
    "    \n",
    "    \n",
    " \n",
    "| One | Two | Else |\n",
    "| --- | --- | --- |\n",
    "| 1 | 3 | 0.843 |\n",
    "\n",
    "\n",
    "\n",
    "__[hyperlink](http://url)__\n",
    "\n",
    "\n",
    "![UK_wildbirds-01-robin.jpg](attachment:UK_wildbirds-01-robin.jpg)\n",
    "\n",
    "\n",
    "```python\n",
    "s = \"syntax highlighting\"\n",
    "print s\n",
    "\n",
    "```\n",
    "\n",
    "\n",
    "> blockquote\n",
    "\n",
    "\n",
    "\n",
    "~~Not important~~"
   ]
  },
  {
   "cell_type": "code",
   "execution_count": null,
   "metadata": {},
   "outputs": [],
   "source": []
  }
 ],
 "metadata": {
  "kernelspec": {
   "display_name": "Python 3",
   "language": "python",
   "name": "python3"
  },
  "language_info": {
   "codemirror_mode": {
    "name": "ipython",
    "version": 3
   },
   "file_extension": ".py",
   "mimetype": "text/x-python",
   "name": "python",
   "nbconvert_exporter": "python",
   "pygments_lexer": "ipython3",
   "version": "3.7.6"
  }
 },
 "nbformat": 4,
 "nbformat_minor": 4
}
